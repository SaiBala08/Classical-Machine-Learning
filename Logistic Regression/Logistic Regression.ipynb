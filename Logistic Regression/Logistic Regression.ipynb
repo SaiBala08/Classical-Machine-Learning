{
 "cells": [
  {
   "cell_type": "code",
   "execution_count": 3,
   "metadata": {},
   "outputs": [],
   "source": [
    "import numpy as np\n",
    "import pandas as pd\n",
    "import matplotlib.pyplot as plt\n",
    "from sklearn.linear_model import LogisticRegression\n",
    "from sklearn.model_selection import train_test_split\n",
    "from sklearn.metrics import confusion_matrix\n",
    "from sklearn.metrics import accuracy_score\n",
    "import math"
   ]
  },
  {
   "cell_type": "code",
   "execution_count": 176,
   "metadata": {},
   "outputs": [
    {
     "name": "stdout",
     "output_type": "stream",
     "text": [
      "[0.00322697] [-5.57801183e-05 -1.30606665e-01  8.60889158e-04]\n",
      "[[424   9]\n",
      " [ 32  35]]\n",
      "0.918\n"
     ]
    }
   ],
   "source": [
    "credit_data = pd.read_csv(\"PythonMachineLearning/Datasets/Datasets/credit_data.csv\")\n",
    "\n",
    "features = credit_data[[\"income\", \"age\", \"loan\"]]\n",
    "target = credit_data.default\n",
    "\n",
    "feature_train, feature_test, target_train, target_test = train_test_split(features, target, test_size = 0.25)\n",
    "\n",
    "model = LogisticRegression()\n",
    "model.fit = model.fit(feature_train, target_train)\n",
    "\n",
    "predictions = model.fit.predict(feature_test)\n",
    "print(model.fit.intercept_, model.fit.coef_[0])\n",
    "print(confusion_matrix(target_test,predictions))\n",
    "print(accuracy_score(target_test,predictions))"
   ]
  },
  {
   "cell_type": "code",
   "execution_count": 5,
   "metadata": {},
   "outputs": [],
   "source": [
    "## Andrew NG Course Logistic Regression Matlab to Python"
   ]
  },
  {
   "cell_type": "code",
   "execution_count": 58,
   "metadata": {},
   "outputs": [],
   "source": [
    "data = pd.read_csv(\"machine-learning-Logistic_Regression/ex2/ex2data2.txt\")\n",
    "\n",
    "x = np.array(data[[\"x1\", \"x2\"]]).reshape(-1,2)\n",
    "Y = np.array(data[[\"y\"]]).reshape(-1,1)\n",
    "\n",
    "m,n = x.shape\n",
    "X = np.insert(x,0, np.ones((m)), axis = 1)\n",
    "theta = np.zeros((n+1,1))"
   ]
  },
  {
   "cell_type": "code",
   "execution_count": 47,
   "metadata": {},
   "outputs": [],
   "source": [
    "def sigmoid(z):\n",
    "    return 1/(1 + np.exp(-z))\n",
    "\n",
    "def CostFunction(theta,X,Y,lamda):\n",
    "    \n",
    "    m = Y.shape[0]\n",
    "    grad = np.zeros(theta.shape)\n",
    "    \n",
    "    J = (-1/m)*(Y.T@(np.log(sigmoid(X@theta))) + (1-Y).T@np.log(1 - sigmoid(X@theta))) + (lamda/(2*m))*sum((theta[1:]**2))\n",
    "    \n",
    "    regularized_grad = (lamda/m)*theta\n",
    "    regularized_grad[0] = 0\n",
    "    grad = X.T@(sigmoid(X@theta) - Y)/m + regularized_grad\n",
    "    \n",
    "    return J, grad\n",
    "\n",
    "def gradientDescentMulti(X, Y, theta, alpha, num_iters):\n",
    "    \n",
    "    J_history = np.zeros((num_iters, 1));\n",
    "    lamda = 1\n",
    "    \n",
    "    for i in range(num_iters):\n",
    "        \n",
    "        J, grad = CostFunction(theta,X,Y,lamda)\n",
    "        \n",
    "        th = theta - alpha*grad\n",
    "        J_history[i] = J\n",
    "        \n",
    "        theta = th\n",
    "        \n",
    "    return theta, J_history"
   ]
  },
  {
   "cell_type": "code",
   "execution_count": 68,
   "metadata": {},
   "outputs": [
    {
     "name": "stdout",
     "output_type": "stream",
     "text": [
      "Theta Optimal : [[-0.02183441 -0.23100749 -0.00242991]]\n",
      "Accuracy  0.5338983050847458\n"
     ]
    },
    {
     "data": {
      "image/png": "[encoded data removed]",
      "text/plain": [
       "<Figure size 432x288 with 1 Axes>"
      ]
     },
     "metadata": {},
     "output_type": "display_data"
    }
   ],
   "source": [
    "t, J_his = gradientDescentMulti(X, Y, theta, 0.03, 1000)\n",
    "\n",
    "print(\"Theta Optimal :\", t.T)\n",
    "hy = np.where(sigmoid(X@t) >= 0.5, 1, 0)\n",
    "print(\"Accuracy \",np.count_nonzero((hy - Y) == 0)/m)\n",
    "plt.plot(range(1000),J_his)\n",
    "plt.show()"
   ]
  },
  {
   "cell_type": "code",
   "execution_count": 69,
   "metadata": {},
   "outputs": [],
   "source": [
    "## Multi Class Logistic Regression using the one v/s All method"
   ]
  },
  {
   "cell_type": "code",
   "execution_count": 177,
   "metadata": {},
   "outputs": [],
   "source": [
    "from sklearn.datasets import load_digits\n",
    "\n",
    "digits = load_digits()\n",
    "d_features = digits.data\n",
    "d_target = digits.target\n",
    "\n",
    "num_labels = 10"
   ]
  },
  {
   "cell_type": "code",
   "execution_count": 178,
   "metadata": {},
   "outputs": [],
   "source": [
    "def Multi_LR(X,Y,num_labels):\n",
    "    \n",
    "    (m,n) = X.shape\n",
    "    all_theta = np.zeros((num_labels, n+1))\n",
    "    \n",
    "    model = LogisticRegression()\n",
    "    \n",
    "    for i in range(num_labels):\n",
    "        \n",
    "        Model_fit = model.fit(X, np.where(Y == i,1,0).reshape(-1,1))\n",
    "        \n",
    "        all_theta[i,:] =   np.append([Model_fit.intercept_],[Model_fit.coef_])\n",
    "    \n",
    "    return all_theta\n",
    "    "
   ]
  },
  {
   "cell_type": "code",
   "execution_count": 180,
   "metadata": {},
   "outputs": [
    {
     "name": "stdout",
     "output_type": "stream",
     "text": [
      "Accuracy  0.9910962715637173\n"
     ]
    },
    {
     "name": "stderr",
     "output_type": "stream",
     "text": [
      "/Users/chaitanyabalasankula/anaconda3/lib/python3.6/site-packages/sklearn/utils/validation.py:578: DataConversionWarning: A column-vector y was passed when a 1d array was expected. Please change the shape of y to (n_samples, ), for example using ravel().\n",
      "  y = column_or_1d(y, warn=True)\n"
     ]
    }
   ],
   "source": [
    "all_theta = Multi_LR(d_features,d_target,num_labels)\n",
    "all_theta = np.delete(all_theta,0, 1)\n",
    "\n",
    "P = d_features@all_theta.T\n",
    "p = np.argmax(P.T, axis=0)\n",
    "\n",
    "print(\"Accuracy \",np.count_nonzero((p - d_target) == 0)/len(d_target))"
   ]
  },
  {
   "cell_type": "code",
   "execution_count": null,
   "metadata": {},
   "outputs": [],
   "source": []
  },
  {
   "cell_type": "code",
   "execution_count": null,
   "metadata": {},
   "outputs": [],
   "source": []
  }
 ],
 "metadata": {
  "kernelspec": {
   "display_name": "Python 3",
   "language": "python",
   "name": "python3"
  },
  "language_info": {
   "codemirror_mode": {
    "name": "ipython",
    "version": 3
   },
   "file_extension": ".py",
   "mimetype": "text/x-python",
   "name": "python",
   "nbconvert_exporter": "python",
   "pygments_lexer": "ipython3",
   "version": "3.6.8"
  }
 },
 "nbformat": 4,
 "nbformat_minor": 2
}
